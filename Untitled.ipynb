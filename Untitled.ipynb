{
 "cells": [
  {
   "cell_type": "code",
   "execution_count": 17,
   "metadata": {
    "collapsed": true
   },
   "outputs": [],
   "source": [
    "import nltk\n",
    "from nltk.tokenize import word_tokenize\n",
    "from nltk.stem import WordNetLemmatizer\n",
    "import numpy as np\n",
    "import random\n",
    "import pickle\n",
    "from collections import Counter"
   ]
  },
  {
   "cell_type": "code",
   "execution_count": 32,
   "metadata": {
    "collapsed": true
   },
   "outputs": [],
   "source": [
    "import sys\n",
    "reload(sys)\n",
    "sys.setdefaultencoding(\"utf-8\")"
   ]
  },
  {
   "cell_type": "code",
   "execution_count": 33,
   "metadata": {
    "collapsed": true
   },
   "outputs": [],
   "source": [
    "lemmatizer=WordNetLemmatizer()\n",
    "num_lines=100000\n",
    "\n",
    "\n"
   ]
  },
  {
   "cell_type": "code",
   "execution_count": 34,
   "metadata": {
    "collapsed": true
   },
   "outputs": [],
   "source": [
    "def lemmatize(x):\n",
    "    return lemmatizer.lemmatize(x)\n"
   ]
  },
  {
   "cell_type": "code",
   "execution_count": 51,
   "metadata": {
    "collapsed": false
   },
   "outputs": [],
   "source": [
    "def lexiconCreation(positive, negative):\n",
    "    lexicon=[]\n",
    "    word_counts=Counter()\n",
    "    for fi in [positive,negative]:\n",
    "        with open (fi,'r') as f:\n",
    "            contents=f.readlines()\n",
    "            for line in contents[:num_lines]:\n",
    "                this_set_words=word_tokenize(line.lower())\n",
    "                lexicon=list(this_set_words)\n",
    "                lexicon=map(lemmatizer.lemmatize,lexicon)\n",
    "                #[lemmatizer.lemmatize(i) for i in lexicon]\n",
    "                temp_counter=Counter(lexicon)\n",
    "                word_counts=(word_counts+temp_counter)\n",
    "    lexicon=[]\n",
    "    for word_cnt in word_counts:\n",
    "        if 1000>word_counts[word_cnt]>50:\n",
    "            lexicon.append(word_cnt)\n",
    "    return lexicon\n",
    "                \n",
    "                \n",
    "                \n",
    "        "
   ]
  },
  {
   "cell_type": "code",
   "execution_count": 52,
   "metadata": {
    "collapsed": true
   },
   "outputs": [],
   "source": [
    "def sample_handling(sample, lexicon, classification):\n",
    "    featureset=[]\n",
    "    with open(sample,'r') as f:\n",
    "        contents=f.readlines()\n",
    "        for l in contents[:num_lines]:\n",
    "            current_words=word_tokenize(l.lower())\n",
    "            current_words=map(lemmatizer.lemmatize,current_words)\n",
    "            #for i in current_words]\n",
    "            features=np.zeros(len(lexicon))\n",
    "            for word in current_words:\n",
    "                if word.lower() in lexicon:\n",
    "                    index_value=lexicon.index(word.lower())\n",
    "                    features[index_value]+=1\n",
    "            features=list(features)\n",
    "            featureset.append([features, classification])\n",
    "    return featureset\n",
    "    "
   ]
  },
  {
   "cell_type": "code",
   "execution_count": 53,
   "metadata": {
    "collapsed": true
   },
   "outputs": [],
   "source": [
    "def create_feature_sets_and_labels(pos,neg,test_size=0.2):\n",
    "    lexicon=lexiconCreation(pos,neg)\n",
    "    features=[]\n",
    "    features+=sample_handling('pos.txt',lexicon,[1,0])\n",
    "    features+=sample_handling('neg.txt',lexicon,[0,1])\n",
    "    random.shuffle(features)\n",
    "    \n",
    "    features=np.array(features)\n",
    "    \n",
    "    testing_size=int(test_size*len(features))\n",
    "    \n",
    "    train_x=list(features[:,0][:-testing_size])\n",
    "    train_y=list(features[:,1][:-testing_size])\n",
    "    test_x=list(features[:,0][-testing_size:])\n",
    "    test_y=list(features[:,1][-testing_size:])\n",
    "    \n",
    "    return train_x,train_y,test_x,test_y\n",
    "    \n",
    "    \n",
    "    "
   ]
  },
  {
   "cell_type": "code",
   "execution_count": null,
   "metadata": {
    "collapsed": false
   },
   "outputs": [],
   "source": [
    "if __name__=='__main__':\n",
    "    train_x,train_y,test_x,test_y=create_feature_sets_and_labels('pos.txt','neg.txt')"
   ]
  },
  {
   "cell_type": "code",
   "execution_count": null,
   "metadata": {
    "collapsed": true
   },
   "outputs": [],
   "source": [
    "train_x"
   ]
  },
  {
   "cell_type": "code",
   "execution_count": null,
   "metadata": {
    "collapsed": true
   },
   "outputs": [],
   "source": []
  },
  {
   "cell_type": "code",
   "execution_count": null,
   "metadata": {
    "collapsed": true
   },
   "outputs": [],
   "source": []
  }
 ],
 "metadata": {
  "kernelspec": {
   "display_name": "Python 2",
   "language": "python",
   "name": "python2"
  },
  "language_info": {
   "codemirror_mode": {
    "name": "ipython",
    "version": 2
   },
   "file_extension": ".py",
   "mimetype": "text/x-python",
   "name": "python",
   "nbconvert_exporter": "python",
   "pygments_lexer": "ipython2",
   "version": "2.7.12"
  }
 },
 "nbformat": 4,
 "nbformat_minor": 0
}
